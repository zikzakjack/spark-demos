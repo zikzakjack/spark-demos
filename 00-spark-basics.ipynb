{
 "cells": [
  {
   "cell_type": "markdown",
   "metadata": {},
   "source": [
    "# Apache Spark - A Unified engine for large-scale data analytics\n",
    "\n",
    "Apache Spark is a unified analytics engine for large-scale data processing. It provides high-level APIs in Java, Scala, Python and R, and an optimized engine that supports general execution graphs. It also supports a rich set of higher-level tool\n",
    "s including Spark SQL for SQL and structured data processing, pandas API on Spark for pandas workloads, MLlib for machine learning, GraphX for graph processing, and Structured Streaming for incremental computation and stream processing"
   ]
  },
  {
   "cell_type": "markdown",
   "metadata": {},
   "source": [
    "# Spark DataTypes\n",
    "\n",
    "## Basic Data types in Spark\n",
    "\n",
    "| Spark Data type  | Python Data type | API to instantiate    |\n",
    "| ---------------- | ---------------- | --------------------- |\n",
    "| ByteType         | int              | DataTypes.ByteType    |\n",
    "| ShortType        | int              | DataTypes.ShortType   |\n",
    "| IntegerType      | int              | DataTypes.IntegerType |\n",
    "| LongType         | int              | DataTypes.LongType    |\n",
    "| FloatType        | float            | DataTypes.FloatType   |\n",
    "| DoubleType       | float            | DataTypes.DoubleType  |\n",
    "| StringType       | str              | DataTypes.StringType  |\n",
    "| BooleanType      | bool             | DataTypes.BooleanType |\n",
    "| DecimalType      | decimal.Decimal  | DecimalType           |\n",
    "\n",
    "## Structured data types in Spark\n",
    "\n",
    "| Spark Data type  | Python Data type                                     | API to instantiate                      |\n",
    "| ---------------- | ---------------------------------------------------- | --------------------------------------- |\n",
    "| BinaryType       | bytearray                                            | BinaryType()                            |\n",
    "| TimestampType    | datetime.datetime                                    | TimestampType()                         |\n",
    "| DateType         | datetime.date                                        | DateType()                              |\n",
    "| ArrayType        | List, tuple, or array                                | ArrayType(dataType, [nullable])         |\n",
    "| MapType          | dict                                                 | MapType(keyType, valueType, [nullable]) |\n",
    "| StructType       | List or tuple                                        | StructType([fields])                    |\n",
    "| StructField      | A value type corresponding to the type of this field | StructField(name, dataType, [nullable]) |\n",
    "\n"
   ]
  }
 ],
 "metadata": {
  "language_info": {
   "name": "python"
  }
 },
 "nbformat": 4,
 "nbformat_minor": 2
}
